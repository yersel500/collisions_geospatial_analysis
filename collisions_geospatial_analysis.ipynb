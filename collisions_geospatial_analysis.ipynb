{
 "cells": [
  {
   "cell_type": "code",
   "execution_count": 1,
   "id": "b08490f9",
   "metadata": {
    "_cell_guid": "b1076dfc-b9ad-4769-8c92-a6c4dae69d19",
    "_uuid": "8f2839f25d086af736a60e9eeb907d3b93b6e0e5",
    "execution": {
     "iopub.execute_input": "2024-05-02T21:59:07.695076Z",
     "iopub.status.busy": "2024-05-02T21:59:07.694598Z",
     "iopub.status.idle": "2024-05-02T21:59:09.798478Z",
     "shell.execute_reply": "2024-05-02T21:59:09.797001Z"
    },
    "papermill": {
     "duration": 2.116926,
     "end_time": "2024-05-02T21:59:09.801551",
     "exception": false,
     "start_time": "2024-05-02T21:59:07.684625",
     "status": "completed"
    },
    "tags": []
   },
   "outputs": [],
   "source": [
    "import math\n",
    "import geopandas as gpd\n",
    "import pandas as pd\n",
    "from shapely.geometry import MultiPolygon\n",
    "\n",
    "import folium\n",
    "from folium import Choropleth, Marker\n",
    "from folium.plugins import HeatMap, MarkerCluster"
   ]
  },
  {
   "cell_type": "code",
   "execution_count": 2,
   "id": "3802491a",
   "metadata": {
    "execution": {
     "iopub.execute_input": "2024-05-02T21:59:09.818479Z",
     "iopub.status.busy": "2024-05-02T21:59:09.817224Z",
     "iopub.status.idle": "2024-05-02T21:59:09.823147Z",
     "shell.execute_reply": "2024-05-02T21:59:09.822276Z"
    },
    "papermill": {
     "duration": 0.01699,
     "end_time": "2024-05-02T21:59:09.825839",
     "exception": false,
     "start_time": "2024-05-02T21:59:09.808849",
     "status": "completed"
    },
    "tags": []
   },
   "outputs": [],
   "source": [
    "def embed_map(m, file_name):\n",
    "    from IPython.display import IFrame\n",
    "    m.save(file_name)\n",
    "    return IFrame(file_name, width='100%', height='500px')"
   ]
  },
  {
   "cell_type": "code",
   "execution_count": 3,
   "id": "d9daa4db",
   "metadata": {
    "execution": {
     "iopub.execute_input": "2024-05-02T21:59:09.844115Z",
     "iopub.status.busy": "2024-05-02T21:59:09.843183Z",
     "iopub.status.idle": "2024-05-02T22:02:26.491399Z",
     "shell.execute_reply": "2024-05-02T22:02:26.490024Z"
    },
    "papermill": {
     "duration": 196.668292,
     "end_time": "2024-05-02T22:02:26.502355",
     "exception": false,
     "start_time": "2024-05-02T21:59:09.834063",
     "status": "completed"
    },
    "tags": []
   },
   "outputs": [
    {
     "data": {
      "text/html": [
       "<div>\n",
       "<style scoped>\n",
       "    .dataframe tbody tr th:only-of-type {\n",
       "        vertical-align: middle;\n",
       "    }\n",
       "\n",
       "    .dataframe tbody tr th {\n",
       "        vertical-align: top;\n",
       "    }\n",
       "\n",
       "    .dataframe thead th {\n",
       "        text-align: right;\n",
       "    }\n",
       "</style>\n",
       "<table border=\"1\" class=\"dataframe\">\n",
       "  <thead>\n",
       "    <tr style=\"text-align: right;\">\n",
       "      <th></th>\n",
       "      <th>DATE</th>\n",
       "      <th>TIME</th>\n",
       "      <th>BOROUGH</th>\n",
       "      <th>ZIP CODE</th>\n",
       "      <th>LATITUDE</th>\n",
       "      <th>LONGITUDE</th>\n",
       "      <th>LOCATION</th>\n",
       "      <th>ON STREET</th>\n",
       "      <th>CROSS STRE</th>\n",
       "      <th>OFF STREET</th>\n",
       "      <th>...</th>\n",
       "      <th>CONTRIBU_2</th>\n",
       "      <th>CONTRIBU_3</th>\n",
       "      <th>CONTRIBU_4</th>\n",
       "      <th>UNIQUE KEY</th>\n",
       "      <th>VEHICLE TY</th>\n",
       "      <th>VEHICLE _1</th>\n",
       "      <th>VEHICLE _2</th>\n",
       "      <th>VEHICLE _3</th>\n",
       "      <th>VEHICLE _4</th>\n",
       "      <th>geometry</th>\n",
       "    </tr>\n",
       "  </thead>\n",
       "  <tbody>\n",
       "    <tr>\n",
       "      <th>0</th>\n",
       "      <td>07/30/2019</td>\n",
       "      <td>0:00</td>\n",
       "      <td>BRONX</td>\n",
       "      <td>10464</td>\n",
       "      <td>40.841100</td>\n",
       "      <td>-73.784960</td>\n",
       "      <td>(40.8411, -73.78496)</td>\n",
       "      <td>None</td>\n",
       "      <td>None</td>\n",
       "      <td>121       PILOT STREET</td>\n",
       "      <td>...</td>\n",
       "      <td>Unspecified</td>\n",
       "      <td>None</td>\n",
       "      <td>None</td>\n",
       "      <td>4180045</td>\n",
       "      <td>Sedan</td>\n",
       "      <td>Station Wagon/Sport Utility Vehicle</td>\n",
       "      <td>Station Wagon/Sport Utility Vehicle</td>\n",
       "      <td>None</td>\n",
       "      <td>None</td>\n",
       "      <td>POINT (1043750.211 245785.815)</td>\n",
       "    </tr>\n",
       "    <tr>\n",
       "      <th>1</th>\n",
       "      <td>07/30/2019</td>\n",
       "      <td>0:10</td>\n",
       "      <td>QUEENS</td>\n",
       "      <td>11423</td>\n",
       "      <td>40.710827</td>\n",
       "      <td>-73.770660</td>\n",
       "      <td>(40.710827, -73.77066)</td>\n",
       "      <td>JAMAICA AVENUE</td>\n",
       "      <td>188 STREET</td>\n",
       "      <td>None</td>\n",
       "      <td>...</td>\n",
       "      <td>None</td>\n",
       "      <td>None</td>\n",
       "      <td>None</td>\n",
       "      <td>4180007</td>\n",
       "      <td>Sedan</td>\n",
       "      <td>Sedan</td>\n",
       "      <td>None</td>\n",
       "      <td>None</td>\n",
       "      <td>None</td>\n",
       "      <td>POINT (1047831.185 198333.171)</td>\n",
       "    </tr>\n",
       "    <tr>\n",
       "      <th>2</th>\n",
       "      <td>07/30/2019</td>\n",
       "      <td>0:25</td>\n",
       "      <td>None</td>\n",
       "      <td>None</td>\n",
       "      <td>40.880318</td>\n",
       "      <td>-73.841286</td>\n",
       "      <td>(40.880318, -73.841286)</td>\n",
       "      <td>BOSTON ROAD</td>\n",
       "      <td>None</td>\n",
       "      <td>None</td>\n",
       "      <td>...</td>\n",
       "      <td>None</td>\n",
       "      <td>None</td>\n",
       "      <td>None</td>\n",
       "      <td>4179575</td>\n",
       "      <td>Sedan</td>\n",
       "      <td>Station Wagon/Sport Utility Vehicle</td>\n",
       "      <td>None</td>\n",
       "      <td>None</td>\n",
       "      <td>None</td>\n",
       "      <td>POINT (1028139.293 260041.178)</td>\n",
       "    </tr>\n",
       "    <tr>\n",
       "      <th>3</th>\n",
       "      <td>07/30/2019</td>\n",
       "      <td>0:35</td>\n",
       "      <td>MANHATTAN</td>\n",
       "      <td>10036</td>\n",
       "      <td>40.756744</td>\n",
       "      <td>-73.984590</td>\n",
       "      <td>(40.756744, -73.98459)</td>\n",
       "      <td>None</td>\n",
       "      <td>None</td>\n",
       "      <td>155       WEST 44 STREET</td>\n",
       "      <td>...</td>\n",
       "      <td>None</td>\n",
       "      <td>None</td>\n",
       "      <td>None</td>\n",
       "      <td>4179544</td>\n",
       "      <td>Box Truck</td>\n",
       "      <td>Station Wagon/Sport Utility Vehicle</td>\n",
       "      <td>None</td>\n",
       "      <td>None</td>\n",
       "      <td>None</td>\n",
       "      <td>POINT (988519.261 214979.320)</td>\n",
       "    </tr>\n",
       "    <tr>\n",
       "      <th>4</th>\n",
       "      <td>07/30/2019</td>\n",
       "      <td>10:00</td>\n",
       "      <td>BROOKLYN</td>\n",
       "      <td>11223</td>\n",
       "      <td>40.600090</td>\n",
       "      <td>-73.965910</td>\n",
       "      <td>(40.60009, -73.96591)</td>\n",
       "      <td>AVENUE T</td>\n",
       "      <td>OCEAN PARKWAY</td>\n",
       "      <td>None</td>\n",
       "      <td>...</td>\n",
       "      <td>None</td>\n",
       "      <td>None</td>\n",
       "      <td>None</td>\n",
       "      <td>4180660</td>\n",
       "      <td>Station Wagon/Sport Utility Vehicle</td>\n",
       "      <td>Bike</td>\n",
       "      <td>None</td>\n",
       "      <td>None</td>\n",
       "      <td>None</td>\n",
       "      <td>POINT (993716.669 157907.212)</td>\n",
       "    </tr>\n",
       "  </tbody>\n",
       "</table>\n",
       "<p>5 rows × 30 columns</p>\n",
       "</div>"
      ],
      "text/plain": [
       "         DATE   TIME    BOROUGH ZIP CODE   LATITUDE  LONGITUDE  \\\n",
       "0  07/30/2019   0:00      BRONX    10464  40.841100 -73.784960   \n",
       "1  07/30/2019   0:10     QUEENS    11423  40.710827 -73.770660   \n",
       "2  07/30/2019   0:25       None     None  40.880318 -73.841286   \n",
       "3  07/30/2019   0:35  MANHATTAN    10036  40.756744 -73.984590   \n",
       "4  07/30/2019  10:00   BROOKLYN    11223  40.600090 -73.965910   \n",
       "\n",
       "                  LOCATION       ON STREET     CROSS STRE  \\\n",
       "0     (40.8411, -73.78496)            None           None   \n",
       "1   (40.710827, -73.77066)  JAMAICA AVENUE     188 STREET   \n",
       "2  (40.880318, -73.841286)     BOSTON ROAD           None   \n",
       "3   (40.756744, -73.98459)            None           None   \n",
       "4    (40.60009, -73.96591)        AVENUE T  OCEAN PARKWAY   \n",
       "\n",
       "                 OFF STREET  ...   CONTRIBU_2  CONTRIBU_3  CONTRIBU_4  \\\n",
       "0    121       PILOT STREET  ...  Unspecified        None        None   \n",
       "1                      None  ...         None        None        None   \n",
       "2                      None  ...         None        None        None   \n",
       "3  155       WEST 44 STREET  ...         None        None        None   \n",
       "4                      None  ...         None        None        None   \n",
       "\n",
       "   UNIQUE KEY                           VEHICLE TY  \\\n",
       "0     4180045                                Sedan   \n",
       "1     4180007                                Sedan   \n",
       "2     4179575                                Sedan   \n",
       "3     4179544                            Box Truck   \n",
       "4     4180660  Station Wagon/Sport Utility Vehicle   \n",
       "\n",
       "                            VEHICLE _1                           VEHICLE _2  \\\n",
       "0  Station Wagon/Sport Utility Vehicle  Station Wagon/Sport Utility Vehicle   \n",
       "1                                Sedan                                 None   \n",
       "2  Station Wagon/Sport Utility Vehicle                                 None   \n",
       "3  Station Wagon/Sport Utility Vehicle                                 None   \n",
       "4                                 Bike                                 None   \n",
       "\n",
       "   VEHICLE _3 VEHICLE _4                        geometry  \n",
       "0        None       None  POINT (1043750.211 245785.815)  \n",
       "1        None       None  POINT (1047831.185 198333.171)  \n",
       "2        None       None  POINT (1028139.293 260041.178)  \n",
       "3        None       None   POINT (988519.261 214979.320)  \n",
       "4        None       None   POINT (993716.669 157907.212)  \n",
       "\n",
       "[5 rows x 30 columns]"
      ]
     },
     "execution_count": 3,
     "metadata": {},
     "output_type": "execute_result"
    }
   ],
   "source": [
    "collisions = gpd.read_file(\"../input/geospatial-learn-course-data/NYPD_Motor_Vehicle_Collisions/NYPD_Motor_Vehicle_Collisions/NYPD_Motor_Vehicle_Collisions.shp\")\n",
    "collisions.head()"
   ]
  },
  {
   "cell_type": "markdown",
   "id": "79987513",
   "metadata": {
    "papermill": {
     "duration": 0.007292,
     "end_time": "2024-05-02T22:02:26.517866",
     "exception": false,
     "start_time": "2024-05-02T22:02:26.510574",
     "status": "completed"
    },
    "tags": []
   },
   "source": [
    "# Visualize aHeatmap to show collision data with a radius"
   ]
  },
  {
   "cell_type": "code",
   "execution_count": 4,
   "id": "514f8b6c",
   "metadata": {
    "execution": {
     "iopub.execute_input": "2024-05-02T22:02:26.535649Z",
     "iopub.status.busy": "2024-05-02T22:02:26.535249Z",
     "iopub.status.idle": "2024-05-02T22:02:32.457028Z",
     "shell.execute_reply": "2024-05-02T22:02:32.455544Z"
    },
    "papermill": {
     "duration": 5.934754,
     "end_time": "2024-05-02T22:02:32.460302",
     "exception": false,
     "start_time": "2024-05-02T22:02:26.525548",
     "status": "completed"
    },
    "tags": []
   },
   "outputs": [
    {
     "data": {
      "text/html": [
       "\n",
       "        <iframe\n",
       "            width=\"100%\"\n",
       "            height=\"500px\"\n",
       "            src=\"q_1.html\"\n",
       "            frameborder=\"0\"\n",
       "            allowfullscreen\n",
       "            \n",
       "        ></iframe>\n",
       "        "
      ],
      "text/plain": [
       "<IPython.lib.display.IFrame at 0x7d4aabfdb6d0>"
      ]
     },
     "execution_count": 4,
     "metadata": {},
     "output_type": "execute_result"
    }
   ],
   "source": [
    "m_1 = folium.Map(location=[40.7, -74], zoom_start=11) \n",
    "\n",
    "HeatMap(data=collisions[['LATITUDE', 'LONGITUDE']], radius=9).add_to(m_1)\n",
    "\n",
    "# Show the map\n",
    "embed_map(m_1, \"q_1.html\")"
   ]
  },
  {
   "cell_type": "markdown",
   "id": "82630b83",
   "metadata": {
    "papermill": {
     "duration": 0.007752,
     "end_time": "2024-05-02T22:02:32.476254",
     "exception": false,
     "start_time": "2024-05-02T22:02:32.468502",
     "status": "completed"
    },
    "tags": []
   },
   "source": [
    "# Understand hospital coverage."
   ]
  },
  {
   "cell_type": "code",
   "execution_count": 5,
   "id": "91ef13e9",
   "metadata": {
    "execution": {
     "iopub.execute_input": "2024-05-02T22:02:32.493672Z",
     "iopub.status.busy": "2024-05-02T22:02:32.493291Z",
     "iopub.status.idle": "2024-05-02T22:02:32.846119Z",
     "shell.execute_reply": "2024-05-02T22:02:32.844864Z"
    },
    "papermill": {
     "duration": 0.364984,
     "end_time": "2024-05-02T22:02:32.849043",
     "exception": false,
     "start_time": "2024-05-02T22:02:32.484059",
     "status": "completed"
    },
    "tags": []
   },
   "outputs": [
    {
     "data": {
      "text/html": [
       "<div>\n",
       "<style scoped>\n",
       "    .dataframe tbody tr th:only-of-type {\n",
       "        vertical-align: middle;\n",
       "    }\n",
       "\n",
       "    .dataframe tbody tr th {\n",
       "        vertical-align: top;\n",
       "    }\n",
       "\n",
       "    .dataframe thead th {\n",
       "        text-align: right;\n",
       "    }\n",
       "</style>\n",
       "<table border=\"1\" class=\"dataframe\">\n",
       "  <thead>\n",
       "    <tr style=\"text-align: right;\">\n",
       "      <th></th>\n",
       "      <th>id</th>\n",
       "      <th>name</th>\n",
       "      <th>address</th>\n",
       "      <th>zip</th>\n",
       "      <th>factype</th>\n",
       "      <th>facname</th>\n",
       "      <th>capacity</th>\n",
       "      <th>capname</th>\n",
       "      <th>bcode</th>\n",
       "      <th>xcoord</th>\n",
       "      <th>ycoord</th>\n",
       "      <th>latitude</th>\n",
       "      <th>longitude</th>\n",
       "      <th>geometry</th>\n",
       "    </tr>\n",
       "  </thead>\n",
       "  <tbody>\n",
       "    <tr>\n",
       "      <th>0</th>\n",
       "      <td>317000001H1178</td>\n",
       "      <td>BRONX-LEBANON HOSPITAL CENTER - CONCOURSE DIVI...</td>\n",
       "      <td>1650 Grand Concourse</td>\n",
       "      <td>10457</td>\n",
       "      <td>3102</td>\n",
       "      <td>Hospital</td>\n",
       "      <td>415</td>\n",
       "      <td>Beds</td>\n",
       "      <td>36005</td>\n",
       "      <td>1008872.0</td>\n",
       "      <td>246596.0</td>\n",
       "      <td>40.843490</td>\n",
       "      <td>-73.911010</td>\n",
       "      <td>POINT (1008872.000 246596.000)</td>\n",
       "    </tr>\n",
       "    <tr>\n",
       "      <th>1</th>\n",
       "      <td>317000001H1164</td>\n",
       "      <td>BRONX-LEBANON HOSPITAL CENTER - FULTON DIVISION</td>\n",
       "      <td>1276 Fulton Ave</td>\n",
       "      <td>10456</td>\n",
       "      <td>3102</td>\n",
       "      <td>Hospital</td>\n",
       "      <td>164</td>\n",
       "      <td>Beds</td>\n",
       "      <td>36005</td>\n",
       "      <td>1011044.0</td>\n",
       "      <td>242204.0</td>\n",
       "      <td>40.831429</td>\n",
       "      <td>-73.903178</td>\n",
       "      <td>POINT (1011044.000 242204.000)</td>\n",
       "    </tr>\n",
       "    <tr>\n",
       "      <th>2</th>\n",
       "      <td>317000011H1175</td>\n",
       "      <td>CALVARY HOSPITAL INC</td>\n",
       "      <td>1740-70 Eastchester Rd</td>\n",
       "      <td>10461</td>\n",
       "      <td>3102</td>\n",
       "      <td>Hospital</td>\n",
       "      <td>225</td>\n",
       "      <td>Beds</td>\n",
       "      <td>36005</td>\n",
       "      <td>1027505.0</td>\n",
       "      <td>248287.0</td>\n",
       "      <td>40.848060</td>\n",
       "      <td>-73.843656</td>\n",
       "      <td>POINT (1027505.000 248287.000)</td>\n",
       "    </tr>\n",
       "    <tr>\n",
       "      <th>3</th>\n",
       "      <td>317000002H1165</td>\n",
       "      <td>JACOBI MEDICAL CENTER</td>\n",
       "      <td>1400 Pelham Pkwy</td>\n",
       "      <td>10461</td>\n",
       "      <td>3102</td>\n",
       "      <td>Hospital</td>\n",
       "      <td>457</td>\n",
       "      <td>Beds</td>\n",
       "      <td>36005</td>\n",
       "      <td>1027042.0</td>\n",
       "      <td>251065.0</td>\n",
       "      <td>40.855687</td>\n",
       "      <td>-73.845311</td>\n",
       "      <td>POINT (1027042.000 251065.000)</td>\n",
       "    </tr>\n",
       "    <tr>\n",
       "      <th>4</th>\n",
       "      <td>317000008H1172</td>\n",
       "      <td>LINCOLN MEDICAL &amp; MENTAL HEALTH CENTER</td>\n",
       "      <td>234 E 149 St</td>\n",
       "      <td>10451</td>\n",
       "      <td>3102</td>\n",
       "      <td>Hospital</td>\n",
       "      <td>362</td>\n",
       "      <td>Beds</td>\n",
       "      <td>36005</td>\n",
       "      <td>1005154.0</td>\n",
       "      <td>236853.0</td>\n",
       "      <td>40.816758</td>\n",
       "      <td>-73.924478</td>\n",
       "      <td>POINT (1005154.000 236853.000)</td>\n",
       "    </tr>\n",
       "  </tbody>\n",
       "</table>\n",
       "</div>"
      ],
      "text/plain": [
       "               id                                               name  \\\n",
       "0  317000001H1178  BRONX-LEBANON HOSPITAL CENTER - CONCOURSE DIVI...   \n",
       "1  317000001H1164    BRONX-LEBANON HOSPITAL CENTER - FULTON DIVISION   \n",
       "2  317000011H1175                               CALVARY HOSPITAL INC   \n",
       "3  317000002H1165                              JACOBI MEDICAL CENTER   \n",
       "4  317000008H1172             LINCOLN MEDICAL & MENTAL HEALTH CENTER   \n",
       "\n",
       "                  address    zip factype   facname capacity capname  bcode  \\\n",
       "0    1650 Grand Concourse  10457    3102  Hospital      415    Beds  36005   \n",
       "1         1276 Fulton Ave  10456    3102  Hospital      164    Beds  36005   \n",
       "2  1740-70 Eastchester Rd  10461    3102  Hospital      225    Beds  36005   \n",
       "3        1400 Pelham Pkwy  10461    3102  Hospital      457    Beds  36005   \n",
       "4            234 E 149 St  10451    3102  Hospital      362    Beds  36005   \n",
       "\n",
       "      xcoord    ycoord   latitude  longitude                        geometry  \n",
       "0  1008872.0  246596.0  40.843490 -73.911010  POINT (1008872.000 246596.000)  \n",
       "1  1011044.0  242204.0  40.831429 -73.903178  POINT (1011044.000 242204.000)  \n",
       "2  1027505.0  248287.0  40.848060 -73.843656  POINT (1027505.000 248287.000)  \n",
       "3  1027042.0  251065.0  40.855687 -73.845311  POINT (1027042.000 251065.000)  \n",
       "4  1005154.0  236853.0  40.816758 -73.924478  POINT (1005154.000 236853.000)  "
      ]
     },
     "execution_count": 5,
     "metadata": {},
     "output_type": "execute_result"
    }
   ],
   "source": [
    "hospitals = gpd.read_file(\"../input/geospatial-learn-course-data/nyu_2451_34494/nyu_2451_34494/nyu_2451_34494.shp\")\n",
    "hospitals.head()"
   ]
  },
  {
   "cell_type": "code",
   "execution_count": 6,
   "id": "933e7532",
   "metadata": {
    "execution": {
     "iopub.execute_input": "2024-05-02T22:02:32.869421Z",
     "iopub.status.busy": "2024-05-02T22:02:32.869000Z",
     "iopub.status.idle": "2024-05-02T22:02:32.996115Z",
     "shell.execute_reply": "2024-05-02T22:02:32.994707Z"
    },
    "papermill": {
     "duration": 0.140106,
     "end_time": "2024-05-02T22:02:32.998898",
     "exception": false,
     "start_time": "2024-05-02T22:02:32.858792",
     "status": "completed"
    },
    "tags": []
   },
   "outputs": [
    {
     "data": {
      "text/html": [
       "\n",
       "        <iframe\n",
       "            width=\"100%\"\n",
       "            height=\"500px\"\n",
       "            src=\"q_2.html\"\n",
       "            frameborder=\"0\"\n",
       "            allowfullscreen\n",
       "            \n",
       "        ></iframe>\n",
       "        "
      ],
      "text/plain": [
       "<IPython.lib.display.IFrame at 0x7d4aa8d2e7a0>"
      ]
     },
     "execution_count": 6,
     "metadata": {},
     "output_type": "execute_result"
    }
   ],
   "source": [
    "m_2 = folium.Map(location=[40.7, -74], zoom_start=11) \n",
    "\n",
    "for idx, row in hospitals.iterrows():\n",
    "    Marker([row['latitude'], row['longitude']], popup=row['name']).add_to(m_2)\n",
    "        \n",
    "# Show the map\n",
    "embed_map(m_2, \"q_2.html\")"
   ]
  },
  {
   "cell_type": "markdown",
   "id": "432a8206",
   "metadata": {
    "papermill": {
     "duration": 0.008164,
     "end_time": "2024-05-02T22:02:33.015374",
     "exception": false,
     "start_time": "2024-05-02T22:02:33.007210",
     "status": "completed"
    },
    "tags": []
   },
   "source": [
    "# Collision where the closest hospital is more than 10 kilometers away"
   ]
  },
  {
   "cell_type": "code",
   "execution_count": 7,
   "id": "7eaaa79f",
   "metadata": {
    "execution": {
     "iopub.execute_input": "2024-05-02T22:02:33.034451Z",
     "iopub.status.busy": "2024-05-02T22:02:33.033551Z",
     "iopub.status.idle": "2024-05-02T22:02:53.616908Z",
     "shell.execute_reply": "2024-05-02T22:02:53.615516Z"
    },
    "papermill": {
     "duration": 20.595949,
     "end_time": "2024-05-02T22:02:53.619820",
     "exception": false,
     "start_time": "2024-05-02T22:02:33.023871",
     "status": "completed"
    },
    "tags": []
   },
   "outputs": [],
   "source": [
    "ten_km_buffer = hospitals.geometry.buffer(10 * 1000)\n",
    "my_union = ten_km_buffer.geometry.unary_union\n",
    "outside_range = collisions.loc[~collisions[\"geometry\"].apply(lambda x: my_union.contains(x))]"
   ]
  },
  {
   "cell_type": "markdown",
   "id": "95610aa2",
   "metadata": {
    "papermill": {
     "duration": 0.008694,
     "end_time": "2024-05-02T22:02:53.637197",
     "exception": false,
     "start_time": "2024-05-02T22:02:53.628503",
     "status": "completed"
    },
    "tags": []
   },
   "source": [
    "**Now we'll calculate the percentage of collisions that occurred more than 10kms away from the closest hospital**"
   ]
  },
  {
   "cell_type": "code",
   "execution_count": 8,
   "id": "d9a7708e",
   "metadata": {
    "execution": {
     "iopub.execute_input": "2024-05-02T22:02:53.656482Z",
     "iopub.status.busy": "2024-05-02T22:02:53.656103Z",
     "iopub.status.idle": "2024-05-02T22:02:53.662900Z",
     "shell.execute_reply": "2024-05-02T22:02:53.661380Z"
    },
    "papermill": {
     "duration": 0.020167,
     "end_time": "2024-05-02T22:02:53.665702",
     "exception": false,
     "start_time": "2024-05-02T22:02:53.645535",
     "status": "completed"
    },
    "tags": []
   },
   "outputs": [
    {
     "name": "stdout",
     "output_type": "stream",
     "text": [
      "Percentage of collisions more than 10 km away from the closest hospital: 15.12%\n"
     ]
    }
   ],
   "source": [
    "percentage = round(100*len(outside_range)/len(collisions), 2)\n",
    "print(\"Percentage of collisions more than 10 km away from the closest hospital: {}%\".format(percentage))"
   ]
  },
  {
   "cell_type": "markdown",
   "id": "d022b407",
   "metadata": {
    "papermill": {
     "duration": 0.008256,
     "end_time": "2024-05-02T22:02:53.682622",
     "exception": false,
     "start_time": "2024-05-02T22:02:53.674366",
     "status": "completed"
    },
    "tags": []
   },
   "source": [
    "# Find the closest hospital for a collision location"
   ]
  },
  {
   "cell_type": "code",
   "execution_count": 9,
   "id": "bb569395",
   "metadata": {
    "execution": {
     "iopub.execute_input": "2024-05-02T22:02:53.702164Z",
     "iopub.status.busy": "2024-05-02T22:02:53.701463Z",
     "iopub.status.idle": "2024-05-02T22:02:53.721461Z",
     "shell.execute_reply": "2024-05-02T22:02:53.720015Z"
    },
    "papermill": {
     "duration": 0.032868,
     "end_time": "2024-05-02T22:02:53.724079",
     "exception": false,
     "start_time": "2024-05-02T22:02:53.691211",
     "status": "completed"
    },
    "tags": []
   },
   "outputs": [
    {
     "name": "stdout",
     "output_type": "stream",
     "text": [
      "CALVARY HOSPITAL INC\n"
     ]
    }
   ],
   "source": [
    "def best_hospital(collision_location):\n",
    "    my_dict = {}\n",
    "    for idx, row in hospitals.iterrows():\n",
    "        my_dict[row['name']] = collision_location.distance(row.geometry)\n",
    "    name = min(my_dict, key=my_dict.get)\n",
    "    return name\n",
    "\n",
    "print(best_hospital(outside_range.geometry.iloc[0]))"
   ]
  },
  {
   "cell_type": "markdown",
   "id": "677bf4a0",
   "metadata": {
    "papermill": {
     "duration": 0.009098,
     "end_time": "2024-05-02T22:02:53.742338",
     "exception": false,
     "start_time": "2024-05-02T22:02:53.733240",
     "status": "completed"
    },
    "tags": []
   },
   "source": [
    " # Find hospital with the highest demand"
   ]
  },
  {
   "cell_type": "code",
   "execution_count": 10,
   "id": "572cf1a5",
   "metadata": {
    "execution": {
     "iopub.execute_input": "2024-05-02T22:02:53.762010Z",
     "iopub.status.busy": "2024-05-02T22:02:53.761471Z",
     "iopub.status.idle": "2024-05-02T22:06:43.397426Z",
     "shell.execute_reply": "2024-05-02T22:06:43.395033Z"
    },
    "papermill": {
     "duration": 229.65779,
     "end_time": "2024-05-02T22:06:43.408839",
     "exception": false,
     "start_time": "2024-05-02T22:02:53.751049",
     "status": "completed"
    },
    "tags": []
   },
   "outputs": [
    {
     "data": {
      "text/plain": [
       "'JAMAICA HOSPITAL MEDICAL CENTER'"
      ]
     },
     "execution_count": 10,
     "metadata": {},
     "output_type": "execute_result"
    }
   ],
   "source": [
    "highest_demand = outside_range.geometry.apply(best_hospital).value_counts().idxmax()\n",
    "highest_demand"
   ]
  },
  {
   "cell_type": "markdown",
   "id": "cb6d7cec",
   "metadata": {
    "papermill": {
     "duration": 0.008736,
     "end_time": "2024-05-02T22:06:43.427259",
     "exception": false,
     "start_time": "2024-05-02T22:06:43.418523",
     "status": "completed"
    },
    "tags": []
   },
   "source": [
    "# Analysis to define the best place to build a new hospital"
   ]
  },
  {
   "cell_type": "markdown",
   "id": "2c28f329",
   "metadata": {
    "papermill": {
     "duration": 0.008414,
     "end_time": "2024-05-02T22:06:43.444846",
     "exception": false,
     "start_time": "2024-05-02T22:06:43.436432",
     "status": "completed"
    },
    "tags": []
   },
   "source": [
    "**Now we'll visualize the hospital location, and the coliisions that occurred more than 10 kms away from the closest hospital**"
   ]
  },
  {
   "cell_type": "code",
   "execution_count": 11,
   "id": "556640ee",
   "metadata": {
    "execution": {
     "iopub.execute_input": "2024-05-02T22:06:43.464507Z",
     "iopub.status.busy": "2024-05-02T22:06:43.464110Z",
     "iopub.status.idle": "2024-05-02T22:06:45.051785Z",
     "shell.execute_reply": "2024-05-02T22:06:45.050561Z"
    },
    "papermill": {
     "duration": 1.600858,
     "end_time": "2024-05-02T22:06:45.054587",
     "exception": false,
     "start_time": "2024-05-02T22:06:43.453729",
     "status": "completed"
    },
    "tags": []
   },
   "outputs": [
    {
     "data": {
      "text/html": [
       "\n",
       "        <iframe\n",
       "            width=\"100%\"\n",
       "            height=\"500px\"\n",
       "            src=\"m_6.html\"\n",
       "            frameborder=\"0\"\n",
       "            allowfullscreen\n",
       "            \n",
       "        ></iframe>\n",
       "        "
      ],
      "text/plain": [
       "<IPython.lib.display.IFrame at 0x7d4aa8febb80>"
      ]
     },
     "execution_count": 11,
     "metadata": {},
     "output_type": "execute_result"
    }
   ],
   "source": [
    "m_6 = folium.Map(location=[40.7, -74], zoom_start=11) \n",
    "\n",
    "coverage = gpd.GeoDataFrame(geometry=hospitals.geometry).buffer(10000)\n",
    "folium.GeoJson(coverage.geometry.to_crs(epsg=4326)).add_to(m_6)\n",
    "HeatMap(data=outside_range[['LATITUDE', 'LONGITUDE']], radius=9).add_to(m_6)\n",
    "folium.LatLngPopup().add_to(m_6)\n",
    "\n",
    "embed_map(m_6, 'm_6.html')"
   ]
  },
  {
   "cell_type": "markdown",
   "id": "7f68e037",
   "metadata": {
    "papermill": {
     "duration": 0.00848,
     "end_time": "2024-05-02T22:06:45.071911",
     "exception": false,
     "start_time": "2024-05-02T22:06:45.063431",
     "status": "completed"
    },
    "tags": []
   },
   "source": [
    "**Analyzind the map, possible good locations for new hospitals are**"
   ]
  },
  {
   "cell_type": "code",
   "execution_count": 12,
   "id": "7c5a9fd1",
   "metadata": {
    "execution": {
     "iopub.execute_input": "2024-05-02T22:06:45.092132Z",
     "iopub.status.busy": "2024-05-02T22:06:45.091681Z",
     "iopub.status.idle": "2024-05-02T22:06:46.479477Z",
     "shell.execute_reply": "2024-05-02T22:06:46.477957Z"
    },
    "papermill": {
     "duration": 1.401371,
     "end_time": "2024-05-02T22:06:46.482087",
     "exception": false,
     "start_time": "2024-05-02T22:06:45.080716",
     "status": "completed"
    },
    "tags": []
   },
   "outputs": [
    {
     "name": "stderr",
     "output_type": "stream",
     "text": [
      "/opt/conda/lib/python3.10/site-packages/pyproj/crs/crs.py:141: FutureWarning: '+init=<authority>:<code>' syntax is deprecated. '<authority>:<code>' is the preferred initialization method. When making the change, be mindful of axis order changes: https://pyproj4.github.io/pyproj/stable/gotchas.html#axis-order-changes-in-proj-6\n",
      "  in_crs_string = _prepare_from_proj_string(in_crs_string)\n"
     ]
    },
    {
     "name": "stdout",
     "output_type": "stream",
     "text": [
      "(NEW) Percentage of collisions more than 10 km away from the closest hospital: 9.7%\n"
     ]
    },
    {
     "data": {
      "text/html": [
       "\n",
       "        <iframe\n",
       "            width=\"100%\"\n",
       "            height=\"500px\"\n",
       "            src=\"q_6.html\"\n",
       "            frameborder=\"0\"\n",
       "            allowfullscreen\n",
       "            \n",
       "        ></iframe>\n",
       "        "
      ],
      "text/plain": [
       "<IPython.lib.display.IFrame at 0x7d4aa8feafe0>"
      ]
     },
     "metadata": {},
     "output_type": "display_data"
    }
   ],
   "source": [
    "# hospital 1\n",
    "lat_1 = 40.6775\n",
    "long_1 = -73.8645\n",
    "\n",
    "# hospital 2\n",
    "lat_2 = 40.6598\n",
    "long_2 = -73.7540\n",
    "\n",
    "\n",
    "# Visualize the map including the new hospitals\n",
    "\n",
    "new_df = pd.DataFrame(\n",
    "    {'Latitude': [lat_1, lat_2],\n",
    "     'Longitude': [long_1, long_2]})\n",
    "new_gdf = gpd.GeoDataFrame(new_df, geometry=gpd.points_from_xy(new_df.Longitude, new_df.Latitude))\n",
    "new_gdf.crs = {'init' :'epsg:4326'}\n",
    "new_gdf = new_gdf.to_crs(epsg=2263)\n",
    "# get new percentage\n",
    "new_coverage = gpd.GeoDataFrame(geometry=new_gdf.geometry).buffer(10000)\n",
    "new_my_union = new_coverage.geometry.unary_union\n",
    "new_outside_range = outside_range.loc[~outside_range[\"geometry\"].apply(lambda x: new_my_union.contains(x))]\n",
    "new_percentage = round(100*len(new_outside_range)/len(collisions), 2)\n",
    "print(\"(NEW) Percentage of collisions more than 10 km away from the closest hospital: {}%\".format(new_percentage))\n",
    "\n",
    "# make the map\n",
    "m = folium.Map(location=[40.7, -74], zoom_start=11) \n",
    "folium.GeoJson(coverage.geometry.to_crs(epsg=4326)).add_to(m)\n",
    "folium.GeoJson(new_coverage.geometry.to_crs(epsg=4326)).add_to(m)\n",
    "for idx, row in new_gdf.iterrows():\n",
    "    Marker([row['Latitude'], row['Longitude']]).add_to(m)\n",
    "HeatMap(data=new_outside_range[['LATITUDE', 'LONGITUDE']], radius=9).add_to(m)\n",
    "folium.LatLngPopup().add_to(m)\n",
    "display(embed_map(m, 'q_6.html'))\n"
   ]
  },
  {
   "cell_type": "code",
   "execution_count": null,
   "id": "5a7a62e6",
   "metadata": {
    "papermill": {
     "duration": 0.009032,
     "end_time": "2024-05-02T22:06:46.501161",
     "exception": false,
     "start_time": "2024-05-02T22:06:46.492129",
     "status": "completed"
    },
    "tags": []
   },
   "outputs": [],
   "source": []
  }
 ],
 "metadata": {
  "kaggle": {
   "accelerator": "none",
   "dataSources": [
    {
     "datasetId": 348259,
     "sourceId": 695175,
     "sourceType": "datasetVersion"
    }
   ],
   "dockerImageVersionId": 30698,
   "isGpuEnabled": false,
   "isInternetEnabled": true,
   "language": "python",
   "sourceType": "notebook"
  },
  "kernelspec": {
   "display_name": "Python 3",
   "language": "python",
   "name": "python3"
  },
  "language_info": {
   "codemirror_mode": {
    "name": "ipython",
    "version": 3
   },
   "file_extension": ".py",
   "mimetype": "text/x-python",
   "name": "python",
   "nbconvert_exporter": "python",
   "pygments_lexer": "ipython3",
   "version": "3.10.13"
  },
  "papermill": {
   "default_parameters": {},
   "duration": 464.742214,
   "end_time": "2024-05-02T22:06:49.132908",
   "environment_variables": {},
   "exception": null,
   "input_path": "__notebook__.ipynb",
   "output_path": "__notebook__.ipynb",
   "parameters": {},
   "start_time": "2024-05-02T21:59:04.390694",
   "version": "2.5.0"
  }
 },
 "nbformat": 4,
 "nbformat_minor": 5
}
